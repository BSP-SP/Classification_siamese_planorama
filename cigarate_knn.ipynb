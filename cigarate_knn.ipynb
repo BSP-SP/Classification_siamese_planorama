{
  "nbformat": 4,
  "nbformat_minor": 0,
  "metadata": {
    "colab": {
      "provenance": []
    },
    "kernelspec": {
      "name": "python3",
      "display_name": "Python 3"
    },
    "language_info": {
      "name": "python"
    }
  },
  "cells": [
    {
      "cell_type": "code",
      "source": [
        "from google.colab import drive\n",
        "drive.mount('/content/drive')"
      ],
      "metadata": {
        "colab": {
          "base_uri": "https://localhost:8080/"
        },
        "id": "f2GvPfWWVstn",
        "outputId": "3ce8754a-e865-4030-d3e3-a0da27957ff8"
      },
      "execution_count": null,
      "outputs": [
        {
          "output_type": "stream",
          "name": "stdout",
          "text": [
            "Mounted at /content/drive\n"
          ]
        }
      ]
    },
    {
      "cell_type": "code",
      "execution_count": null,
      "metadata": {
        "id": "dviWDVZmVko5"
      },
      "outputs": [],
      "source": [
        "import numpy as np\n",
        "import tensorflow as tf\n",
        "from keras.applications.vgg16 import preprocess_input\n",
        "import csv\n",
        "import os\n",
        "import pandas as pd\n",
        "%matplotlib inline\n",
        "import matplotlib.pyplot as plt\n",
        "\n",
        "import matplotlib.pyplot as plt\n",
        "import random\n",
        "\n",
        "from sklearn.metrics import accuracy_score, confusion_matrix,precision_score,recall_score\n",
        "import cv2"
      ]
    },
    {
      "cell_type": "code",
      "source": [
        "npzfile=np.load('/content/drive/MyDrive/Cigerate/cigerate_triplet .npz')"
      ],
      "metadata": {
        "id": "ljapIBolVpXr"
      },
      "execution_count": null,
      "outputs": []
    },
    {
      "cell_type": "code",
      "source": [
        "image_pair=npzfile['arr_0']\n",
        "image_label=npzfile['arr_1']"
      ],
      "metadata": {
        "id": "K04gABH5V41X"
      },
      "execution_count": null,
      "outputs": []
    },
    {
      "cell_type": "code",
      "source": [
        "sample_image=[]\n",
        "for i in range(len(image_pair)):\n",
        "  a, p, n=image_pair[i]\n",
        "  sample_image.append(cv2.resize(p, (200,200)))"
      ],
      "metadata": {
        "id": "t1Bp0rh1V67j"
      },
      "execution_count": null,
      "outputs": []
    },
    {
      "cell_type": "code",
      "source": [
        "encoder=tf.keras.models.load_model(\"/content/drive/MyDrive/Cigerate/resnet_model.h5\")"
      ],
      "metadata": {
        "colab": {
          "base_uri": "https://localhost:8080/"
        },
        "id": "XNaDjomLWDtB",
        "outputId": "b709fd7d-e2c5-4770-d17d-af1baa4646a1"
      },
      "execution_count": null,
      "outputs": [
        {
          "output_type": "stream",
          "name": "stderr",
          "text": [
            "WARNING:tensorflow:No training configuration found in the save file, so the model was *not* compiled. Compile it manually.\n"
          ]
        }
      ]
    },
    {
      "cell_type": "code",
      "source": [
        "encod_data=[]\n",
        "label=[]\n",
        "for i in range(len(sample_image)):\n",
        "   encod_data.append(encoder.predict(preprocess_input(np.expand_dims(np.array(sample_image)[i], axis=0))))\n",
        "   label.append(image_label[i])"
      ],
      "metadata": {
        "id": "y5Q4Ge9iWQsr"
      },
      "execution_count": null,
      "outputs": []
    },
    {
      "cell_type": "code",
      "source": [
        "from sklearn.model_selection import train_test_split\n",
        "\n",
        "X_train, X_test, y_train, y_test,indices_train,indices_test, = train_test_split(np.array(encod_data).squeeze(), np.array(label).ravel(),np.arange(len(label)), test_size=0.33, random_state=42,stratify=np.array(label).ravel())"
      ],
      "metadata": {
        "id": "6xsKyPXhWbUY"
      },
      "execution_count": null,
      "outputs": []
    },
    {
      "cell_type": "code",
      "source": [
        "from sklearn.neighbors import KNeighborsClassifier\n",
        "\n",
        "for i in range(1,20,2):\n",
        "    print('For k value :', i)\n",
        "    print('------------------------------------')\n",
        "    knn = KNeighborsClassifier(n_neighbors=i)\n",
        "\n",
        "    knn.fit(X_train, y_train)\n",
        "    pred=knn.predict(X_test)\n",
        "    acc = accuracy_score(y_test, pred)\n",
        "    conf_mat = confusion_matrix(y_test, pred)\n",
        "    preci_macro=precision_score(y_test, pred,average='macro')\n",
        "    recall_macro=recall_score(y_test, pred,average='macro')\n",
        "    preci_micro=precision_score(y_test, pred,average='micro')\n",
        "    recall_micro=recall_score(y_test, pred,average='micro')\n",
        "\n",
        "    print('Accuracy',acc)\n",
        "    print('conf_mat',conf_mat)\n",
        "    print('precision_macro',preci_macro)\n",
        "    print('Recall_macro',recall_macro)\n",
        "    print('precision_micro',preci_micro)\n",
        "    print('Recall_macro',recall_micro)\n",
        "    print('------------------------------------')"
      ],
      "metadata": {
        "colab": {
          "base_uri": "https://localhost:8080/"
        },
        "id": "5SPVhJWKWsKR",
        "outputId": "2e49e40d-71af-404f-ebc7-c19f26848ad2"
      },
      "execution_count": null,
      "outputs": [
        {
          "output_type": "stream",
          "name": "stdout",
          "text": [
            "For k value : 1\n",
            "------------------------------------\n",
            "Accuracy 0.9790286975717439\n",
            "conf_mat [[100   0   0   0   0   0   0   0   0   0]\n",
            " [  0 329   0   0   0   0   0   0   0   0]\n",
            " [  0   0  22   0   0   0   0   0   0   0]\n",
            " [  0   0   0 134   0   0   2   0   0   0]\n",
            " [  0   0   0   0  37   0   0   0   1   0]\n",
            " [  0   0   0   0   0  59   4   0   0   0]\n",
            " [  0   0   1   1   0   2  97   0   0   2]\n",
            " [  0   0   0   0   0   0   0  64   0   0]\n",
            " [  0   0   0   0   1   0   0   0  25   0]\n",
            " [  2   0   0   0   0   2   0   0   1  20]]\n",
            "precision_macro 0.9616463043452393\n",
            "Recall_macro 0.9598772299035307\n",
            "precision_micro 0.9790286975717439\n",
            "Recall_macro 0.9790286975717439\n",
            "------------------------------------\n",
            "For k value : 3\n",
            "------------------------------------\n",
            "Accuracy 0.9735099337748344\n",
            "conf_mat [[100   0   0   0   0   0   0   0   0   0]\n",
            " [  0 329   0   0   0   0   0   0   0   0]\n",
            " [  0   0  22   0   0   0   0   0   0   0]\n",
            " [  0   0   1 132   0   0   3   0   0   0]\n",
            " [  0   0   0   1  36   0   0   0   1   0]\n",
            " [  1   0   2   0   0  58   2   0   0   0]\n",
            " [  0   0   0   1   0   3  97   0   0   2]\n",
            " [  0   0   0   0   0   0   0  64   0   0]\n",
            " [  0   0   0   0   1   0   0   0  25   0]\n",
            " [  2   0   0   0   0   2   1   0   1  19]]\n",
            "precision_macro 0.9501991710384697\n",
            "Recall_macro 0.9501877611335665\n",
            "precision_micro 0.9735099337748344\n",
            "Recall_macro 0.9735099337748344\n",
            "------------------------------------\n",
            "For k value : 5\n",
            "------------------------------------\n",
            "Accuracy 0.9690949227373068\n",
            "conf_mat [[100   0   0   0   0   0   0   0   0   0]\n",
            " [  0 329   0   0   0   0   0   0   0   0]\n",
            " [  0   0  22   0   0   0   0   0   0   0]\n",
            " [  0   0   0 133   0   0   3   0   0   0]\n",
            " [  0   0   0   1  36   0   0   0   1   0]\n",
            " [  0   0   1   0   1  57   3   0   0   1]\n",
            " [  0   2   1   1   1   4  93   0   0   1]\n",
            " [  0   0   0   0   0   0   0  64   0   0]\n",
            " [  0   0   0   0   2   0   0   0  24   0]\n",
            " [  1   0   0   0   0   1   1   0   2  20]]\n",
            "precision_macro 0.9433243202369809\n",
            "Recall_macro 0.9456061046721272\n",
            "precision_micro 0.9690949227373068\n",
            "Recall_macro 0.9690949227373068\n",
            "------------------------------------\n",
            "For k value : 7\n",
            "------------------------------------\n",
            "Accuracy 0.9613686534216336\n",
            "conf_mat [[100   0   0   0   0   0   0   0   0   0]\n",
            " [  0 329   0   0   0   0   0   0   0   0]\n",
            " [  0   0  22   0   0   0   0   0   0   0]\n",
            " [  0   0   0 134   0   1   1   0   0   0]\n",
            " [  0   0   0   1  35   0   0   0   1   1]\n",
            " [  0   0   1   0   1  54   4   0   0   3]\n",
            " [  0   2   0   1   0   5  93   0   0   2]\n",
            " [  0   0   0   0   0   0   0  64   0   0]\n",
            " [  1   0   0   0   2   1   0   1  21   0]\n",
            " [  3   0   0   0   0   1   1   0   1  19]]\n",
            "precision_macro 0.9286385198028071\n",
            "Recall_macro 0.9234094535420395\n",
            "precision_micro 0.9613686534216336\n",
            "Recall_macro 0.9613686534216336\n",
            "------------------------------------\n",
            "For k value : 9\n",
            "------------------------------------\n",
            "Accuracy 0.9448123620309051\n",
            "conf_mat [[100   0   0   0   0   0   0   0   0   0]\n",
            " [  0 329   0   0   0   0   0   0   0   0]\n",
            " [  0   0  19   0   0   0   3   0   0   0]\n",
            " [  0   0   0 135   0   1   0   0   0   0]\n",
            " [  0   0   0   1  35   0   0   0   1   1]\n",
            " [  0   0   2   0   1  49   6   0   0   5]\n",
            " [  0   2   1   3   0   6  88   0   0   3]\n",
            " [  0   0   0   0   0   0   0  64   0   0]\n",
            " [  2   0   0   0   3   1   0   1  19   0]\n",
            " [  3   1   0   0   0   0   1   0   2  18]]\n",
            "precision_macro 0.8948166811856535\n",
            "Recall_macro 0.8860251994624685\n",
            "precision_micro 0.9448123620309051\n",
            "Recall_macro 0.9448123620309051\n",
            "------------------------------------\n",
            "For k value : 11\n",
            "------------------------------------\n",
            "Accuracy 0.9381898454746137\n",
            "conf_mat [[100   0   0   0   0   0   0   0   0   0]\n",
            " [  0 329   0   0   0   0   0   0   0   0]\n",
            " [  0   0  18   1   0   0   3   0   0   0]\n",
            " [  0   0   0 133   0   2   1   0   0   0]\n",
            " [  0   0   0   1  36   0   0   0   1   0]\n",
            " [  1   0   1   0   1  49   6   0   0   5]\n",
            " [  0   2   0   3   0   9  87   0   0   2]\n",
            " [  0   0   0   0   0   0   0  64   0   0]\n",
            " [  2   0   0   0   3   1   0   2  16   2]\n",
            " [  3   1   0   0   0   0   1   0   2  18]]\n",
            "precision_macro 0.8914999308918379\n",
            "Recall_macro 0.8701314003042189\n",
            "precision_micro 0.9381898454746137\n",
            "Recall_macro 0.9381898454746137\n",
            "------------------------------------\n",
            "For k value : 13\n",
            "------------------------------------\n",
            "Accuracy 0.9315673289183223\n",
            "conf_mat [[100   0   0   0   0   0   0   0   0   0]\n",
            " [  0 329   0   0   0   0   0   0   0   0]\n",
            " [  0   0  18   0   0   0   4   0   0   0]\n",
            " [  0   0   0 133   0   2   1   0   0   0]\n",
            " [  0   0   0   1  35   0   0   0   1   1]\n",
            " [  2   0   1   0   1  48   6   0   0   5]\n",
            " [  0   2   0   3   0  11  84   0   0   3]\n",
            " [  0   0   0   0   0   0   0  64   0   0]\n",
            " [  2   0   0   0   4   1   0   2  15   2]\n",
            " [  4   1   0   0   0   0   1   0   1  18]]\n",
            "precision_macro 0.8831994236541225\n",
            "Recall_macro 0.8591537445641716\n",
            "precision_micro 0.9315673289183223\n",
            "Recall_macro 0.9315673289183223\n",
            "------------------------------------\n",
            "For k value : 15\n",
            "------------------------------------\n",
            "Accuracy 0.9271523178807947\n",
            "conf_mat [[100   0   0   0   0   0   0   0   0   0]\n",
            " [  0 329   0   0   0   0   0   0   0   0]\n",
            " [  0   0  18   0   0   0   4   0   0   0]\n",
            " [  0   0   0 133   0   2   1   0   0   0]\n",
            " [  0   0   0   1  30   2   0   0   2   3]\n",
            " [  2   0   2   0   0  47   6   0   0   6]\n",
            " [  0   2   0   3   1  10  85   0   0   2]\n",
            " [  0   0   0   0   0   0   0  64   0   0]\n",
            " [  3   0   0   0   3   1   0   2  16   1]\n",
            " [  3   1   0   0   0   1   1   0   1  18]]\n",
            "precision_macro 0.8704168280912536\n",
            "Recall_macro 0.8492255758725896\n",
            "precision_micro 0.9271523178807947\n",
            "Recall_macro 0.9271523178807947\n",
            "------------------------------------\n",
            "For k value : 17\n",
            "------------------------------------\n",
            "Accuracy 0.9139072847682119\n",
            "conf_mat [[100   0   0   0   0   0   0   0   0   0]\n",
            " [  0 329   0   0   0   0   0   0   0   0]\n",
            " [  0   0  17   1   0   0   4   0   0   0]\n",
            " [  0   0   0 134   0   2   0   0   0   0]\n",
            " [  0   0   0   2  26   5   0   0   2   3]\n",
            " [  4   0   2   1   0  44   6   0   0   6]\n",
            " [  0   3   0   3   1   9  85   0   0   2]\n",
            " [  0   0   0   0   0   0   0  64   0   0]\n",
            " [  3   0   0   0   3   1   0   2  15   2]\n",
            " [  6   1   0   0   1   0   1   0   2  14]]\n",
            "precision_macro 0.8441162184156591\n",
            "Recall_macro 0.8102810410472499\n",
            "precision_micro 0.9139072847682119\n",
            "Recall_macro 0.9139072847682119\n",
            "------------------------------------\n",
            "For k value : 19\n",
            "------------------------------------\n",
            "Accuracy 0.9050772626931567\n",
            "conf_mat [[100   0   0   0   0   0   0   0   0   0]\n",
            " [  0 329   0   0   0   0   0   0   0   0]\n",
            " [  0   0  17   1   0   0   4   0   0   0]\n",
            " [  0   0   0 131   0   2   3   0   0   0]\n",
            " [  0   0   0   2  24   6   0   0   3   3]\n",
            " [  6   0   2   1   0  44   7   0   0   3]\n",
            " [  0   2   1   3   1  11  83   0   0   2]\n",
            " [  0   0   0   0   0   0   0  64   0   0]\n",
            " [  3   0   0   0   6   1   0   2  14   0]\n",
            " [  7   1   0   0   1   1   1   0   0  14]]\n",
            "precision_macro 0.8355760053516361\n",
            "Recall_macro 0.7970240993806025\n",
            "precision_micro 0.9050772626931567\n",
            "Recall_macro 0.9050772626931567\n",
            "------------------------------------\n"
          ]
        }
      ]
    }
  ]
}